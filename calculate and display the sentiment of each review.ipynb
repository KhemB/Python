{
 "cells": [
  {
   "cell_type": "markdown",
   "metadata": {
    "id": "gJ3PNJT65wah"
   },
   "source": [
    "# CIS 443-01 - Analytics Programming\n",
    "## Lab 9\n",
    "__Grading ID__: F0000(double click the cell in Jupyter to edit)<br>\n",
    "__Due__: Monday, November 21 (by 11:59 PM)<br />\n",
    "__Worth__: 25 pts."
   ]
  },
  {
   "cell_type": "markdown",
   "metadata": {
    "id": "nwCG4sdQ5wal"
   },
   "source": [
    "### Directions\n",
    "Find your favorite restaurant on <a href=\"https://www.yelp.com/\" target=\"blank\">Yelp</a> and copy the text of two reviews, ideally one positive and one negative. In the code cell below, write Python code to create two TextBlobs using the text of each review. For each review, calculate and display the sentiment of each review as a whole and of each sentence in the reviews (as in Section 12.2.5 of the text). Use TextBlob's default sentiment analyzer. Print each review and each sentence along with its associated sentiment to make it easy to see if the calculated sentiment matches your expectations.\n",
    "\n",
    "Test your source code and save your work before submission. (25 pts.)"
   ]
  },
  {
   "cell_type": "code",
   "execution_count": 13,
   "metadata": {
    "id": "xbPWqDTl5wan"
   },
   "outputs": [
    {
     "name": "stdout",
     "output_type": "stream",
     "text": [
      "My favorite Chipotle in Louisville, they are quick and friendly and keep the restaurant clean.: Sentiment(polarity=0.39375, subjectivity=0.675)\n",
      "Overpriced! Worst customer service, was told to buy a another order of chips and queso if I wanted more chips after they gave me half a bag. Terrible!: Sentiment(polarity=-0.41666666666666663, subjectivity=0.6666666666666667)\n",
      "My favorite Chipotle in Louisville, they are quick and friendly and keep the restaurant clean.Overpriced! Worst customer service, was told to buy a another order of chips and queso if I wanted more chips after they gave me half a bag. Terrible!: Sentiment(polarity=-0.052083333333333336, subjectivity=0.6666666666666666)\n"
     ]
    }
   ],
   "source": [
    "# Put Lab 9 Code Here\n",
    "#f5128\n",
    "from textblob import Sentence\n",
    "#create variable\n",
    "chip_review_a = 'My favorite Chipotle in Louisville, they are quick and friendly and keep the restaurant clean.'\n",
    "chip_review_b= 'Overpriced! Worst customer service, was told to buy a another order of chips and queso if I wanted more chips after they gave me half a bag. Terrible!'\n",
    "chip_avg = chip_review_a + chip_review_b\n",
    "#assign it to sentiment\n",
    "sent_one = Sentence(chip_review_a).sentiment\n",
    "sent_two = Sentence(chip_review_b).sentiment\n",
    "sent_three = Sentence(chip_avg).sentiment\n",
    "#output sentiment\n",
    "print(f'{chip_review_a}: {sent_one}\\n{chip_review_b}: {sent_two}\\n{chip_avg}: {sent_three}')"
   ]
  },
  {
   "cell_type": "markdown",
   "metadata": {
    "id": "Q4aLNonV5wap"
   },
   "source": [
    "Be sure to save and exit your Jupyter Notebook and Shutdown Jupyter Lab (from the __File__ menu) if using Ananconda before you submit your notebook on Blackboard for grading. If using Colab, be sure to Download (from the __File__ menu) back to your local file system before submitting to Blackboard.\n",
    "Make sure you don't submit the empty starting notebook by accident."
   ]
  }
 ],
 "metadata": {
  "colab": {
   "collapsed_sections": [],
   "name": "Lab9.ipynb",
   "provenance": []
  },
  "kernelspec": {
   "display_name": "Python 3 (ipykernel)",
   "language": "python",
   "name": "python3"
  },
  "language_info": {
   "codemirror_mode": {
    "name": "ipython",
    "version": 3
   },
   "file_extension": ".py",
   "mimetype": "text/x-python",
   "name": "python",
   "nbconvert_exporter": "python",
   "pygments_lexer": "ipython3",
   "version": "3.9.12"
  }
 },
 "nbformat": 4,
 "nbformat_minor": 4
}
