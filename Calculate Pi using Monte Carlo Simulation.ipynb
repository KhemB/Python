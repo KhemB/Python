{
 "cells": [
  {
   "cell_type": "markdown",
   "metadata": {
    "id": "lN1bE03duXEt"
   },
   "source": [
    "# CIS 443-01 - Analytics Programming\n",
    "## Lab 4\n",
    "__Grading ID__: F000 (double click the cell in Jupyter to edit, find ID in Blackboard Gradebook)<br>\n",
    "__Due__: Monday, September 26 (by 11:59 PM)<br />\n",
    "__Worth__: 25 pts."
   ]
  },
  {
   "cell_type": "markdown",
   "metadata": {
    "id": "P2g2ldwsuXEx"
   },
   "source": [
    "### Directions\n",
    "In the code cell below, write Python code to accomplish the following using what you've learned through Chapter 4. Let's continue our exploration of Pi by creating a new estimate using Monte Carlo simulation. The approach will follow Example 1 from the following article:\n",
    "\n",
    "<a href=\"https://medium.com/cantors-paradise/estimating-%CF%80-using-monte-carlo-simulations-3459a84b5ef9\" target=\"_blank\">Estimating π using Monte Carlo simulations</a>\n",
    "\n",
    "This technique relies on simulation and random numbers to estimate the value of Pi essentially by throwing darts at a board inscribed with a circle and counting how many darts land inside the circle and how many land outside the circle. For everyone's safety, let's stick to a computer-based simulation! To simplify, we'll use the first quadrant unit square as suggested in the article.\n",
    "\n",
    "The approach will work as follows:\n",
    "1. For each dart thrown, generate its coordinates, _x_ and _y_, using a random uniform distribution from 0 - 1. The Python function __random.random__ will include the 0 endpoint but exclude the 1 endpoint. The Python function __random.uniform__ may include the 1 endpoint. See <a href=\"https://docs.python.org/3/library/random.html\" target=\"_blank\">Python documenation for random module</a> for more details.\n",
    "1. If the dart is inside the quarter-circle, count it. A dart is inside the quarter-circle if its distance from the origin (0, 0) is <= 1. You may use the simplified distance formula: $D = \\sqrt{x^2 + y^2}$\n",
    "1. After all the darts have been thrown and counted, Pi may be estimated as: $π = 4 \\cdot \\frac{NumDartsInsideCircle}{TotalNumDarts}$\n",
    "\n",
    "Write a function named __estimate_pi_mc__ that takes a single integer parameter, the number of darts to throw, and returns the estimate of Pi using this Monte Carlo simulation approach. Also include code that will prompt the user for the number of darts they wish to use in the estimate. Call your function with this value and display the estimate with 6 digits of precision. Use sentinel-control to repeat this process until the user enters a number of darts that is <= 0. (25 pts.)\n"
   ]
  },
  {
   "cell_type": "code",
   "execution_count": 2,
   "metadata": {
    "id": "BT0x-iUNuXEy"
   },
   "outputs": [
    {
     "name": "stdin",
     "output_type": "stream",
     "text": [
      "Enter the number of Darts to be used for Simulation:  300\n"
     ]
    },
    {
     "name": "stdout",
     "output_type": "stream",
     "text": [
      "The estimated pi value is:    3.01333\n"
     ]
    }
   ],
   "source": [
    "# Put code here\n",
    "import random\n",
    "import math\n",
    "\n",
    "\"\"\"Calculate Pi using Monte Carlo Simulation\"\"\"\n",
    "# create variables\n",
    "insidecircle = 0\n",
    "i = 0\n",
    "\n",
    "# read user input\n",
    "value = int(input(\"Enter the number of Darts to be used for Simulation: \"))\n",
    "\n",
    "\n",
    "# loop for number of darts in the simulation\n",
    "while i < value:\n",
    "    x2 = random.random()**2\n",
    "    y2 = random.random()**2\n",
    "    d = math.sqrt(x2 + y2)\n",
    "\n",
    "    # make sure distance is not more than inside circle\n",
    "    if d <=1:\n",
    "        insidecircle += 1\n",
    "\n",
    "    # calculate estimation\n",
    "    pi = 4 * (insidecircle / value)\n",
    "\n",
    "    #move on to the next dart\n",
    "    i+= 1\n",
    "\n",
    "# print estimate\n",
    "print('The estimated pi value is:',f'{pi:>10.6}')"
   ]
  },
  {
   "cell_type": "markdown",
   "metadata": {
    "id": "q8s79p9EuXEz"
   },
   "source": [
    "Be sure to save and exit your Jupyter Notebook and Shutdown Jupyter Lab (from the __File__ menu) if using Ananconda before you submit your notebook on Blackboard for grading. If using Colab, be sure to Download (from the __File__ menu) back to your local file system before submitting to Blackboard.\n",
    "Make sure you don't submit the empty starting notebook by accident."
   ]
  }
 ],
 "metadata": {
  "colab": {
   "collapsed_sections": [],
   "provenance": []
  },
  "kernelspec": {
   "display_name": "Python 3 (ipykernel)",
   "language": "python",
   "name": "python3"
  },
  "language_info": {
   "codemirror_mode": {
    "name": "ipython",
    "version": 3
   },
   "file_extension": ".py",
   "mimetype": "text/x-python",
   "name": "python",
   "nbconvert_exporter": "python",
   "pygments_lexer": "ipython3",
   "version": "3.9.12"
  }
 },
 "nbformat": 4,
 "nbformat_minor": 4
}
