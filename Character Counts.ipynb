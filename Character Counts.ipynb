{
 "cells": [
  {
   "cell_type": "markdown",
   "metadata": {
    "id": "g6YXO5CuvEtt"
   },
   "source": [
    "# CIS 443-01 - Analytics Programming\n",
    "## Lab 6\n",
    "__Grading ID__: F0000 (double click the cell in Jupyter to edit, find ID in Blackboard Gradebook)<br>\n",
    "__Due__: Monday, October 17 (by 11:59 PM)<br />\n",
    "__Worth__: 25 pts."
   ]
  },
  {
   "cell_type": "markdown",
   "metadata": {
    "id": "B6sRXvrTvEtv"
   },
   "source": [
    "### Directions\n",
    "**Exercise 6.7, p. 235 (Character Counts)** Recall that strings are sequences of characters. Use techniques similar to **Fig. 6.2** to write a script that inputs a sentence from the user, then uses a dictionary to summarize the number of occurrences of each letter. Ignore case, ignore blanks, and assume the user does not enter any punctuation (or you can just count the characters that are letters). Display a two-column table of the letters and their counts with the letters in sorted order. Finally, use a `set` operation to determine which letters of the alphabet were not in the original string and print this result, as well. Test your source code and save your work before submission.<br>\n",
    "**Hint**: It will be helpful to have a string variable with all the lowercase or uppercase letters to determine which letters of the alphabet were not in the entered string. Luckily, Python provides such strings in the `string` module as <a href=\"https://docs.python.org/3/library/string.html#string.ascii_lowercase\" target=\"_blank\">`string.ascii_lowercase`</a> and <a href=\"https://docs.python.org/3/library/string.html#string.ascii_uppercase\" target=\"_blank\">`string.ascii_uppercase`</a>. Then you can use set difference to answer the last part of the assignment.\n"
   ]
  },
  {
   "cell_type": "code",
   "execution_count": 4,
   "metadata": {
    "id": "8cS_2x47vEty"
   },
   "outputs": [
    {
     "name": "stdin",
     "output_type": "stream",
     "text": [
      "Enter a sentence:  this is jfdafahsdiufawernkjffsdfknsadlnfknasdlfksdnfkasdfnkasndfknsadfksdkf\n"
     ]
    },
    {
     "name": "stdout",
     "output_type": "stream",
     "text": [
      "Letter      Count\n",
      "            2\n",
      "a           8\n",
      "d           10\n",
      "e           1\n",
      "f           13\n",
      "h           2\n",
      "i           3\n",
      "j           2\n",
      "k           9\n",
      "l           2\n",
      "n           8\n",
      "r           1\n",
      "s           11\n",
      "t           1\n",
      "u           1\n",
      "w           1\n",
      "\n",
      "Alphabets that are not in the entered string: ['b', 'c', 'g', 'm', 'o', 'p', 'q', 'v', 'x', 'y', 'z']\n"
     ]
    }
   ],
   "source": [
    "#F5128\n",
    "#lab6\n",
    "# Put Lab 6 Code Here\n",
    "text = input(\"Enter a sentence: \").lower()\n",
    "\n",
    "#creates empty dictionary \n",
    "counts_letters = {}\n",
    "#looping\n",
    "for letter in text:\n",
    "    if letter in counts_letters : \n",
    "        # update existing key-value pair\n",
    "        counts_letters [letter] += 1  \n",
    "    else:\n",
    "        counts_letters [letter] = 1 \n",
    "print(f'{\"Letter\":<12}Count') \n",
    "\n",
    "for letter, count in sorted(counts_letters .items()):\n",
    "    #displays each characters and their counts \n",
    "    print(f'{letter:<12}{count}') \n",
    "\n",
    "#Creates set of alphabets \n",
    "alphabets = set('abcdefghijklmnopqrstuvwxyz')\n",
    "\n",
    "#Finds the letters that are not in the dictionary\n",
    "user_input = alphabets.difference(counts_letters .keys())\n",
    "\n",
    "# displays the characters that are not in the user input\n",
    "print('\\nAlphabets that are not in the entered string:', sorted(user_input))"
   ]
  },
  {
   "cell_type": "markdown",
   "metadata": {
    "id": "TjAb_IeFvEt0"
   },
   "source": [
    "Be sure to save and exit your Jupyter Notebook and Shutdown Jupyter Lab (from the __File__ menu) if using Ananconda before you submit your notebook on Blackboard for grading. If using Colab, be sure to Download (from the __File__ menu) back to your local file system before submitting to Blackboard.\n",
    "Make sure you don't submit the empty starting notebook by accident."
   ]
  }
 ],
 "metadata": {
  "colab": {
   "collapsed_sections": [],
   "provenance": []
  },
  "kernelspec": {
   "display_name": "Python 3 (ipykernel)",
   "language": "python",
   "name": "python3"
  },
  "language_info": {
   "codemirror_mode": {
    "name": "ipython",
    "version": 3
   },
   "file_extension": ".py",
   "mimetype": "text/x-python",
   "name": "python",
   "nbconvert_exporter": "python",
   "pygments_lexer": "ipython3",
   "version": "3.9.12"
  }
 },
 "nbformat": 4,
 "nbformat_minor": 4
}
